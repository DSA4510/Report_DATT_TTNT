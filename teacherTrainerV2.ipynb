{
 "cells": [
  {
   "cell_type": "code",
   "execution_count": 2,
   "id": "d043db89-6aa4-4c04-978f-50c9a67f6783",
   "metadata": {},
   "outputs": [],
   "source": [
    "# !pip install torch\n",
    "# !pip install tensorflow\n",
    "# !pip install huggingface_hub\n",
    "# !pip install transformers\n",
    "# !pip install datasets\n",
    "# !pip install accelerate\n",
    "# !pip install bitsandbytes\n",
    "# !pip install trl\n",
    "# !pip install peft"
   ]
  },
  {
   "cell_type": "code",
   "execution_count": 3,
   "id": "029b6ba6-17ac-4ece-9e2b-7088d5f8c242",
   "metadata": {},
   "outputs": [],
   "source": [
    "import warnings\n",
    "warnings.filterwarnings('ignore')"
   ]
  },
  {
   "cell_type": "code",
   "execution_count": 4,
   "id": "e2e214f4-471e-437c-ad58-9ab2bbc2b82e",
   "metadata": {},
   "outputs": [
    {
     "name": "stderr",
     "output_type": "stream",
     "text": [
      "`low_cpu_mem_usage` was None, now set to True since model is quantized.\n"
     ]
    }
   ],
   "source": [
    "# Select CUDA device index\n",
    "import os\n",
    "import torch\n",
    "\n",
    "os.environ[\"CUDA_VISIBLE_DEVICES\"] = \"0\"\n",
    "\n",
    "from datasets import load_dataset\n",
    "from transformers import AutoModelForSeq2SeqLM, AutoTokenizer, BitsAndBytesConfig\n",
    "\n",
    "model_name = \"google/flan-t5-large\"\n",
    "\n",
    "model = AutoModelForSeq2SeqLM.from_pretrained(model_name, quantization_config=BitsAndBytesConfig(load_in_8bit=True))\n",
    "tokenizer = AutoTokenizer.from_pretrained(model_name)"
   ]
  },
  {
   "cell_type": "code",
   "execution_count": 5,
   "id": "313ce7dc-df0b-4be4-be67-05ece7e09fdc",
   "metadata": {},
   "outputs": [],
   "source": [
    "from peft import prepare_model_for_kbit_training\n",
    "\n",
    "model = prepare_model_for_kbit_training(model)"
   ]
  },
  {
   "cell_type": "code",
   "execution_count": 6,
   "id": "57a3370a-d3f2-4b79-98a3-ad1a9a156896",
   "metadata": {},
   "outputs": [
    {
     "name": "stdout",
     "output_type": "stream",
     "text": [
      "trainable params: 4718592 || all params: 787868672 || trainable%: 0.5989059049678777\n"
     ]
    }
   ],
   "source": [
    "from peft import LoraConfig, get_peft_model, TaskType\n",
    "\n",
    "\n",
    "def print_trainable_parameters(model):\n",
    "    \"\"\"\n",
    "    Prints the number of trainable parameters in the model.\n",
    "    \"\"\"\n",
    "    trainable_params = 0\n",
    "    all_param = 0\n",
    "    for _, param in model.named_parameters():\n",
    "        all_param += param.numel()\n",
    "        if param.requires_grad:\n",
    "            trainable_params += param.numel()\n",
    "    print(\n",
    "        f\"trainable params: {trainable_params} || all params: {all_param} || trainable%: {100 * trainable_params / all_param}\"\n",
    "    )\n",
    "\n",
    "\n",
    "lora_config = LoraConfig(\n",
    "    r=16, lora_alpha=32, target_modules=[\"q\", \"v\"], lora_dropout=0.05, bias=\"none\", task_type=\"SEQ_2_SEQ_LM\"\n",
    ")\n",
    "\n",
    "\n",
    "model = get_peft_model(model, lora_config)\n",
    "print_trainable_parameters(model)"
   ]
  },
  {
   "cell_type": "code",
   "execution_count": 7,
   "id": "d62c4eaf-cb99-476b-9b3e-1e6c3cbb8302",
   "metadata": {},
   "outputs": [],
   "source": [
    "def getFullAnswer(options,answer):\n",
    "  lst = options.split(\" , \")\n",
    "  for i in lst:\n",
    "    if str(i[0]) == answer:\n",
    "      return i\n",
    "  return \"answer\""
   ]
  },
  {
   "cell_type": "code",
   "execution_count": 9,
   "id": "0c8d7cf1-b31f-4d0a-b3fe-c9e916dc44e0",
   "metadata": {},
   "outputs": [
    {
     "data": {
      "application/json": {
       "ascii": false,
       "bar_format": null,
       "colour": null,
       "elapsed": 0.01096796989440918,
       "initial": 0,
       "n": 0,
       "ncols": null,
       "nrows": null,
       "postfix": null,
       "prefix": "Map",
       "rate": null,
       "total": 680,
       "unit": " examples",
       "unit_divisor": 1000,
       "unit_scale": false
      },
      "application/vnd.jupyter.widget-view+json": {
       "model_id": "e2dc33841778434e810d0144773a89b1",
       "version_major": 2,
       "version_minor": 0
      },
      "text/plain": [
       "Map:   0%|          | 0/680 [00:00<?, ? examples/s]"
      ]
     },
     "metadata": {},
     "output_type": "display_data"
    },
    {
     "data": {
      "application/json": {
       "ascii": false,
       "bar_format": null,
       "colour": null,
       "elapsed": 0.008298158645629883,
       "initial": 0,
       "n": 0,
       "ncols": null,
       "nrows": null,
       "postfix": null,
       "prefix": "Map",
       "rate": null,
       "total": 110,
       "unit": " examples",
       "unit_divisor": 1000,
       "unit_scale": false
      },
      "application/vnd.jupyter.widget-view+json": {
       "model_id": "c1274e176ffb455b82987c63382b24b8",
       "version_major": 2,
       "version_minor": 0
      },
      "text/plain": [
       "Map:   0%|          | 0/110 [00:00<?, ? examples/s]"
      ]
     },
     "metadata": {},
     "output_type": "display_data"
    },
    {
     "data": {
      "application/json": {
       "ascii": false,
       "bar_format": null,
       "colour": null,
       "elapsed": 0.008300065994262695,
       "initial": 0,
       "n": 0,
       "ncols": null,
       "nrows": null,
       "postfix": null,
       "prefix": "Map",
       "rate": null,
       "total": 110,
       "unit": " examples",
       "unit_divisor": 1000,
       "unit_scale": false
      },
      "application/vnd.jupyter.widget-view+json": {
       "model_id": "97b2f9773576408195b4ed80f9706817",
       "version_major": 2,
       "version_minor": 0
      },
      "text/plain": [
       "Map:   0%|          | 0/110 [00:00<?, ? examples/s]"
      ]
     },
     "metadata": {},
     "output_type": "display_data"
    }
   ],
   "source": [
    "from datasets import load_from_disk\n",
    "from datasets import concatenate_datasets\n",
    "from datasets import Dataset, DatasetDict\n",
    "import pandas as pd\n",
    "\n",
    "def cleanData(data):\n",
    "    df = data.to_pandas()\n",
    "    for id in range(len(df.index)):\n",
    "        if len(df[\"answer\"][id]) > 256 or (df[\"correct\"][id] == \"answer\"):\n",
    "            df = df.drop(id)\n",
    "    dataset = Dataset.from_pandas(df)\n",
    "    return dataset\n",
    "\n",
    "# Load the saved dataset\n",
    "dataset = load_from_disk('my_dataset')\n",
    "df = pd.read_csv('dataset.csv')\n",
    "part1 = df.sample(frac=0.8, random_state=1)\n",
    "remaining = df.drop(part1.index)\n",
    "part2 = remaining.sample(frac=0.5, random_state=1)\n",
    "part3 = remaining.drop(part2.index)\n",
    "\n",
    "dataset = DatasetDict({'train': concatenate_datasets([dataset[\"train\"],Dataset.from_pandas(part1)]),\n",
    "                       'validation': concatenate_datasets([dataset[\"validation\"],Dataset.from_pandas(part2)]), \n",
    "                       'test': concatenate_datasets([dataset[\"test\"],Dataset.from_pandas(part3)])})\n",
    "#data = load_dataset(\"math_qa\")\n",
    "#data = data.map(lambda samples: tokenizer(samples[\"Problem\"]), batched=True)\n",
    "\n",
    "#data_train = Dataset.from_dict({'answer': data[\"train\"][\"Rationale\"]\n",
    "                                # , 'correct' : [getFullAnswer(options,answer) for options,answer in zip(data[\"train\"][\"options\"],data[\"train\"][\"correct\"])]\n",
    "                                # , 'label':[\"Correct\" for _ in range(len(data[\"train\"]))]})\n",
    "#dataset_train = concatenate_datasets([dataset[\"train\"], data_train])\n",
    "# dataset = DatasetDict({'train': cleanData(dataset[\"train\"]),'validation': cleanData(dataset[\"validation\"]), 'test': cleanData(dataset[\"test\"])})\n",
    "dataset = dataset.map(\n",
    "    lambda x: {\"sentences\": [\"Context: \" + correct + \"\\nAnswer: \" + answer + \"\\nIs the answer Correct or Wrong?\" \n",
    "                             for correct,answer in zip(x[\"correct\"],x[\"answer\"])]},\n",
    "    batched=True,\n",
    "    num_proc=1,\n",
    ")\n",
    "# loading dataset\n",
    "# dataset = load_dataset(\"financial_phrasebank\", \"sentences_allagree\")\n",
    "# dataset = dataset[\"train\"].train_test_split(test_size=0.1)\n",
    "# dataset[\"validation\"] = dataset[\"test\"]\n",
    "# del dataset[\"test\"]\n",
    "\n",
    "# classes = dataset[\"train\"].features[\"label\"].names\n",
    "# dataset = dataset.map(\n",
    "#     lambda x: {\"text_label\": [classes[label] for label in x[\"label\"]]},\n",
    "#     batched=True,\n",
    "#     num_proc=1,\n",
    "# )\n"
   ]
  },
  {
   "cell_type": "code",
   "execution_count": 10,
   "id": "97592e84-8d56-4211-b28e-98f18b2bfc1d",
   "metadata": {},
   "outputs": [
    {
     "name": "stdout",
     "output_type": "stream",
     "text": [
      "DatasetDict({\n",
      "    train: Dataset({\n",
      "        features: ['answer', 'correct', 'label', 'Unnamed: 3', 'Unnamed: 4', 'Unnamed: 5', 'Unnamed: 6', 'Unnamed: 7', 'Unnamed: 8', 'Unnamed: 9', '__index_level_0__', 'sentences'],\n",
      "        num_rows: 680\n",
      "    })\n",
      "    validation: Dataset({\n",
      "        features: ['answer', 'correct', 'label', 'Unnamed: 3', 'Unnamed: 4', 'Unnamed: 5', 'Unnamed: 6', 'Unnamed: 7', 'Unnamed: 8', 'Unnamed: 9', '__index_level_0__', 'sentences'],\n",
      "        num_rows: 110\n",
      "    })\n",
      "    test: Dataset({\n",
      "        features: ['answer', 'correct', 'label', 'Unnamed: 3', 'Unnamed: 4', 'Unnamed: 5', 'Unnamed: 6', 'Unnamed: 7', 'Unnamed: 8', 'Unnamed: 9', '__index_level_0__', 'sentences'],\n",
      "        num_rows: 110\n",
      "    })\n",
      "})\n"
     ]
    }
   ],
   "source": [
    "print(dataset)"
   ]
  },
  {
   "cell_type": "code",
   "execution_count": 11,
   "id": "b4cd5916-dbb9-4174-b927-7c522a4b0f7b",
   "metadata": {},
   "outputs": [
    {
     "name": "stdout",
     "output_type": "stream",
     "text": [
      "2IZ>=(g>cw:q8v(R?:0NI\n",
      "b) 40\n",
      "Wrong\n",
      "Context: b) 40\n",
      "Answer: 2IZ>=(g>cw:q8v(R?:0NI\n",
      "Is the answer Correct or Wrong?\n"
     ]
    }
   ],
   "source": [
    "print(dataset['train']['answer'][679])\n",
    "print(dataset['train']['correct'][679])\n",
    "print(dataset['train']['label'][679])\n",
    "print(dataset['train']['sentences'][679])"
   ]
  },
  {
   "cell_type": "code",
   "execution_count": 12,
   "id": "00ea506e-004c-474a-9282-ee1fe23021a7",
   "metadata": {},
   "outputs": [
    {
     "data": {
      "application/json": {
       "ascii": false,
       "bar_format": null,
       "colour": null,
       "elapsed": 0.008719921112060547,
       "initial": 0,
       "n": 0,
       "ncols": null,
       "nrows": null,
       "postfix": null,
       "prefix": "Running tokenizer on dataset",
       "rate": null,
       "total": 680,
       "unit": " examples",
       "unit_divisor": 1000,
       "unit_scale": false
      },
      "application/vnd.jupyter.widget-view+json": {
       "model_id": "9082d16f3bf04ade8ea54a3b2e501208",
       "version_major": 2,
       "version_minor": 0
      },
      "text/plain": [
       "Running tokenizer on dataset:   0%|          | 0/680 [00:00<?, ? examples/s]"
      ]
     },
     "metadata": {},
     "output_type": "display_data"
    },
    {
     "data": {
      "application/json": {
       "ascii": false,
       "bar_format": null,
       "colour": null,
       "elapsed": 0.008494138717651367,
       "initial": 0,
       "n": 0,
       "ncols": null,
       "nrows": null,
       "postfix": null,
       "prefix": "Running tokenizer on dataset",
       "rate": null,
       "total": 110,
       "unit": " examples",
       "unit_divisor": 1000,
       "unit_scale": false
      },
      "application/vnd.jupyter.widget-view+json": {
       "model_id": "c70f9c2a9168450b8a343b6fb149cc60",
       "version_major": 2,
       "version_minor": 0
      },
      "text/plain": [
       "Running tokenizer on dataset:   0%|          | 0/110 [00:00<?, ? examples/s]"
      ]
     },
     "metadata": {},
     "output_type": "display_data"
    },
    {
     "data": {
      "application/json": {
       "ascii": false,
       "bar_format": null,
       "colour": null,
       "elapsed": 0.008443832397460938,
       "initial": 0,
       "n": 0,
       "ncols": null,
       "nrows": null,
       "postfix": null,
       "prefix": "Running tokenizer on dataset",
       "rate": null,
       "total": 110,
       "unit": " examples",
       "unit_divisor": 1000,
       "unit_scale": false
      },
      "application/vnd.jupyter.widget-view+json": {
       "model_id": "3498d115d2a44bb59361ff14df290ae6",
       "version_major": 2,
       "version_minor": 0
      },
      "text/plain": [
       "Running tokenizer on dataset:   0%|          | 0/110 [00:00<?, ? examples/s]"
      ]
     },
     "metadata": {},
     "output_type": "display_data"
    }
   ],
   "source": [
    "# data preprocessing\n",
    "text_column = \"sentences\"\n",
    "label_column = \"label\"\n",
    "max_length = 128\n",
    "\n",
    "\n",
    "def preprocess_function(examples):\n",
    "    inputs = examples[text_column]\n",
    "    targets = examples[label_column]\n",
    "    model_inputs = tokenizer(inputs, max_length=max_length, padding=\"max_length\", truncation=True, return_tensors=\"pt\")\n",
    "    labels = tokenizer(targets, max_length=3, padding=\"max_length\", truncation=True, return_tensors=\"pt\")\n",
    "    labels = labels[\"input_ids\"]\n",
    "    labels[labels == tokenizer.pad_token_id] = -100\n",
    "    model_inputs[\"labels\"] = labels\n",
    "    return model_inputs\n",
    "\n",
    "\n",
    "processed_datasets = dataset.map(\n",
    "    preprocess_function,\n",
    "    batched=True,\n",
    "    num_proc=1,\n",
    "    remove_columns=dataset[\"train\"].column_names,\n",
    "    load_from_cache_file=False,\n",
    "    desc=\"Running tokenizer on dataset\",\n",
    ")\n",
    "\n",
    "train_dataset = processed_datasets[\"train\"]\n",
    "eval_dataset = processed_datasets[\"validation\"]"
   ]
  },
  {
   "cell_type": "code",
   "execution_count": 13,
   "id": "2047cea3-fd84-422a-944b-c733c462767d",
   "metadata": {},
   "outputs": [
    {
     "name": "stderr",
     "output_type": "stream",
     "text": [
      "2024-04-20 23:56:14.398313: I tensorflow/core/util/port.cc:110] oneDNN custom operations are on. You may see slightly different numerical results due to floating-point round-off errors from different computation orders. To turn them off, set the environment variable `TF_ENABLE_ONEDNN_OPTS=0`.\n",
      "2024-04-20 23:56:14.408206: I tensorflow/tsl/cuda/cudart_stub.cc:28] Could not find cuda drivers on your machine, GPU will not be used.\n",
      "2024-04-20 23:56:14.445324: I tensorflow/core/platform/cpu_feature_guard.cc:182] This TensorFlow binary is optimized to use available CPU instructions in performance-critical operations.\n",
      "To enable the following instructions: AVX2 AVX512F AVX512_VNNI FMA, in other operations, rebuild TensorFlow with the appropriate compiler flags.\n",
      "2024-04-20 23:56:15.209601: W tensorflow/compiler/tf2tensorrt/utils/py_utils.cc:38] TF-TRT Warning: Could not find TensorRT\n",
      "huggingface/tokenizers: The current process just got forked, after parallelism has already been used. Disabling parallelism to avoid deadlocks...\n",
      "To disable this warning, you can either:\n",
      "\t- Avoid using `tokenizers` before the fork if possible\n",
      "\t- Explicitly set the environment variable TOKENIZERS_PARALLELISM=(true | false)\n"
     ]
    }
   ],
   "source": [
    "from transformers import TrainingArguments, Trainer\n",
    "\n",
    "training_args = TrainingArguments(\n",
    "    \"temp\",\n",
    "    evaluation_strategy=\"epoch\",\n",
    "    learning_rate=1e-3,\n",
    "    gradient_accumulation_steps=1,\n",
    "    auto_find_batch_size=True,\n",
    "    num_train_epochs=1,\n",
    "    save_steps=100,\n",
    "    save_total_limit=8,\n",
    ")\n",
    "trainer = Trainer(\n",
    "    model=model,\n",
    "    args=training_args,\n",
    "    train_dataset=train_dataset,\n",
    "    eval_dataset=eval_dataset,\n",
    ")\n",
    "model.config.use_cache = False  # silence the warnings. Please re-enable for inference!"
   ]
  },
  {
   "cell_type": "code",
   "execution_count": 14,
   "id": "8e9008e9-b5ff-4dd2-9065-6f7ea1793e6b",
   "metadata": {},
   "outputs": [
    {
     "data": {
      "text/html": [
       "\n",
       "    <div>\n",
       "      \n",
       "      <progress value='85' max='85' style='width:300px; height:20px; vertical-align: middle;'></progress>\n",
       "      [85/85 03:30, Epoch 1/1]\n",
       "    </div>\n",
       "    <table border=\"1\" class=\"dataframe\">\n",
       "  <thead>\n",
       " <tr style=\"text-align: left;\">\n",
       "      <th>Epoch</th>\n",
       "      <th>Training Loss</th>\n",
       "      <th>Validation Loss</th>\n",
       "    </tr>\n",
       "  </thead>\n",
       "  <tbody>\n",
       "    <tr>\n",
       "      <td>1</td>\n",
       "      <td>No log</td>\n",
       "      <td>0.043684</td>\n",
       "    </tr>\n",
       "  </tbody>\n",
       "</table><p>"
      ],
      "text/plain": [
       "<IPython.core.display.HTML object>"
      ]
     },
     "metadata": {},
     "output_type": "display_data"
    },
    {
     "data": {
      "text/plain": [
       "TrainOutput(global_step=85, training_loss=0.4204018985523897, metrics={'train_runtime': 220.9283, 'train_samples_per_second': 3.078, 'train_steps_per_second': 0.385, 'total_flos': 394274789130240.0, 'train_loss': 0.4204018985523897, 'epoch': 1.0})"
      ]
     },
     "execution_count": 14,
     "metadata": {},
     "output_type": "execute_result"
    }
   ],
   "source": [
    "trainer.train()"
   ]
  },
  {
   "cell_type": "code",
   "execution_count": 15,
   "id": "0caf89c9-0f6e-45cb-85f3-1edad3eaed18",
   "metadata": {},
   "outputs": [
    {
     "name": "stdout",
     "output_type": "stream",
     "text": [
      "True\n",
      "input sentence:  Context: d ) 292\n",
      "Answer: so 12.2 * 24 = 292 . . imo option d is correct answer . .\n",
      "Is the answer Correct or Wrong?\n",
      " output prediction:  Correct\n"
     ]
    }
   ],
   "source": [
    "import random\n",
    "id = 3\n",
    "input_text = \"Context: \" + str(dataset[\"test\"][\"correct\"][id]) + \"\\nAnswer: \" + str(dataset[\"test\"][\"answer\"][id]) + \"\\nIs the answer Correct or Wrong?\"\n",
    "#inputs = tokenizer(input_text, return_tensors=\"pt\")\n",
    "inputs = tokenizer(input_text, return_tensors=\"pt\").to(\"cuda:0\")\n",
    "outputs = model.generate(**inputs)\n",
    "response = tokenizer.decode(outputs[0], skip_special_tokens=True)\n",
    "#outputs = model.generate(input_ids=inputs[\"input_ids\"], max_new_tokens=10)\n",
    "\n",
    "if response.find(\"Correct\") != -1 and dataset[\"test\"][\"label\"][id] == \"Correct\":\n",
    "    print(\"True\")\n",
    "elif response.find(\"Wr\") != -1 and dataset[\"test\"][\"label\"][id] == \"Wrong\":\n",
    "    print(\"True\")\n",
    "else:\n",
    "    print(\"False\")\n",
    "\n",
    "print(\"input sentence: \", input_text)\n",
    "print(\" output prediction: \", response)\n",
    "#print(\" output prediction: \", tokenizer.batch_decode(outputs.detach().cpu().numpy(), skip_special_tokens=True))"
   ]
  },
  {
   "cell_type": "code",
   "execution_count": 16,
   "id": "4454bb75-89ca-4b2d-971d-155e2b22ff63",
   "metadata": {},
   "outputs": [
    {
     "name": "stdout",
     "output_type": "stream",
     "text": [
      "Accuracy: 99.0909090909091%\n"
     ]
    }
   ],
   "source": [
    "accuracy = 0\n",
    "for id in range(len(dataset[\"test\"][\"answer\"])):\n",
    "    fullAnswer = str(dataset[\"test\"][\"correct\"][id])\n",
    "    studentAnswer = str(dataset[\"test\"][\"answer\"][id])\n",
    "    input_text = \"Context: \" + fullAnswer + \"\\nAnswer: \" + studentAnswer + \"\\nIs the answer Correct or Wrong?\"\n",
    "    inputs = tokenizer(input_text, return_tensors=\"pt\").to(\"cuda:0\")\n",
    "    outputs = model.generate(**inputs)\n",
    "    response = tokenizer.decode(outputs[0], skip_special_tokens=True)\n",
    "\n",
    "    if response.find(\"Correct\") != -1 and dataset[\"test\"][\"label\"][id] == \"Correct\":\n",
    "        accuracy += 1\n",
    "    elif response.find(\"Wr\") != -1 and dataset[\"test\"][\"label\"][id] == \"Wrong\":\n",
    "        accuracy += 1\n",
    "    \n",
    "print(\"Accuracy: \"+ str(100*accuracy/len(dataset[\"test\"][\"answer\"])) + \"%\")"
   ]
  },
  {
   "cell_type": "code",
   "execution_count": 17,
   "id": "100661ad-c2ef-4e73-a1ee-c9a33a645d34",
   "metadata": {},
   "outputs": [
    {
     "name": "stdout",
     "output_type": "stream",
     "text": [
      "Correct: 51.81818181818182%\n",
      "Wrong: 48.18181818181818%\n"
     ]
    }
   ],
   "source": [
    "correct = 0\n",
    "wrong = 0\n",
    "for id in range(len(dataset[\"test\"][\"answer\"])):\n",
    "    if dataset[\"test\"][\"label\"][id] == \"Wrong\":\n",
    "        wrong+=1\n",
    "    if dataset[\"test\"][\"label\"][id] == \"Correct\":\n",
    "        correct+=1\n",
    "print(\"Correct: \"+ str(100*correct/len(dataset[\"test\"][\"answer\"])) + \"%\")\n",
    "print(\"Wrong: \"+ str(100*wrong/len(dataset[\"test\"][\"answer\"])) + \"%\")"
   ]
  },
  {
   "cell_type": "code",
   "execution_count": 18,
   "id": "2f12b96d-c48a-43f1-9679-886c08bff0c8",
   "metadata": {},
   "outputs": [],
   "source": [
    "model.save_pretrained(\"teacherModelV2\",safe_serialization=False)"
   ]
  },
  {
   "cell_type": "code",
   "execution_count": 19,
   "id": "0d8fe992-d4df-4d0b-a682-254609983981",
   "metadata": {},
   "outputs": [
    {
     "data": {
      "text/plain": [
       "'/home/student/teacherModelV2.zip'"
      ]
     },
     "execution_count": 19,
     "metadata": {},
     "output_type": "execute_result"
    }
   ],
   "source": [
    "import shutil\n",
    "import zipfile\n",
    "\n",
    "# Create a zip file of the folder\n",
    "shutil.make_archive('teacherModelV2', 'zip', 'teacherModelV2')"
   ]
  },
  {
   "cell_type": "code",
   "execution_count": null,
   "id": "76f51ec2-c34d-4107-917d-9638bdd127a8",
   "metadata": {},
   "outputs": [],
   "source": []
  }
 ],
 "metadata": {
  "kernelspec": {
   "display_name": "Python 3 (ipykernel)",
   "language": "python",
   "name": "python3"
  },
  "language_info": {
   "codemirror_mode": {
    "name": "ipython",
    "version": 3
   },
   "file_extension": ".py",
   "mimetype": "text/x-python",
   "name": "python",
   "nbconvert_exporter": "python",
   "pygments_lexer": "ipython3",
   "version": "3.8.13"
  }
 },
 "nbformat": 4,
 "nbformat_minor": 5
}
